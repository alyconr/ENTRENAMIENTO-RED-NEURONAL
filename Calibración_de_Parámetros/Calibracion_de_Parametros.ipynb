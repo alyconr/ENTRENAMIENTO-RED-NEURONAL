{
 "cells": [
  {
   "cell_type": "markdown",
   "metadata": {},
   "source": [
    "# 1. Entorno"
   ]
  },
  {
   "cell_type": "markdown",
   "metadata": {},
   "source": [
    "# 2. Librerías"
   ]
  },
  {
   "cell_type": "code",
   "execution_count": 163,
   "metadata": {},
   "outputs": [],
   "source": [
    "#Utilitario para construir modelos de Machine Learning y Deep Learning\n",
    "import sagemaker\n",
    "\n",
    "#Librería para manipular los servicios de AWS\n",
    "import boto3\n",
    "\n",
    "#Utilitario para leer archivos de datos\n",
    "from sagemaker.inputs import TrainingInput"
   ]
  },
  {
   "cell_type": "markdown",
   "metadata": {},
   "source": [
    "# 3. Inicio de Sesión sobre SageMaker"
   ]
  },
  {
   "cell_type": "code",
   "execution_count": 164,
   "metadata": {},
   "outputs": [
    {
     "name": "stdout",
     "output_type": "stream",
     "text": [
      "us-east-1\n"
     ]
    }
   ],
   "source": [
    "#Iniciamos sesión en el servicio de SageMaker\n",
    "sesion = sagemaker.Session()\n",
    "\n",
    "#Obtenemos la ejecución en donde estamos trabajando\n",
    "region = sesion.boto_region_name\n",
    "\n",
    "#Verificamos\n",
    "print(region)\n",
    "\n",
    "#Obtenemos el rol de ejecución de SageMaker\n",
    "#El rol de ejecución permite a SageMaker usar otros servicios de AWS\n",
    "rol = sagemaker.get_execution_role()"
   ]
  },
  {
   "cell_type": "markdown",
   "metadata": {},
   "source": [
    "# 4. Definición de Ruta de Archivos"
   ]
  },
  {
   "cell_type": "code",
   "execution_count": 165,
   "metadata": {},
   "outputs": [],
   "source": [
    "#Bucket en donde se encuentran los archivos\n",
    "#IMPORTANTE: REEMPLAZAR  POR TUS INICIALES\n",
    "bucket = \"datasetsbdajac\"\n",
    "\n",
    "#Lectura de datos de entrenamiento\n",
    "data = TrainingInput(\n",
    "    f\"s3://{bucket}/data/insurance_dataset/\", #Ruta del archivo\n",
    "    content_type = \"text/csv\", #Formato del archivo\n",
    "    distribution = \"FullyReplicated\", #El archivo será copiado en todos los servidores\n",
    "    s3_data_type = \"S3Prefix\", #Desde donde se lee el archivo (S3)\n",
    "    input_mode = \"File\", #Los registros se encuentran dentro de archivos\n",
    "    record_wrapping = \"None\" #Envoltorio de optimización\n",
    ")"
   ]
  },
  {
   "cell_type": "markdown",
   "metadata": {},
   "source": [
    "# 5. Configuración del Algoritmo"
   ]
  },
  {
   "cell_type": "code",
   "execution_count": 166,
   "metadata": {},
   "outputs": [],
   "source": [
    "#Definimos el nombre para nuestro job de entrenamiento\n",
    "nombreDeJobDeEntrenamiento = \"entrenamiento-neuronal\"\n",
    "\n",
    "#Definimos el tipo de predicción que hará el algoritmo\n",
    "#Para una predicción numérica debemos definir \"regressor\"\n",
    "tipoDePrediccion = \"regressor\"\n",
    "\n",
    "#Definimos la cantidad de servidores\n",
    "#Con 1, nuestro algoritmo se ejecutará en 1 servidor\n",
    "#Con más de 1, nuestro algoritmo se ejecutará en un clúster de varios servidores\n",
    "numeroDeServidores = 1\n",
    "\n",
    "#Definimos el tipo de servidor\n",
    "tipoDeServidor = \"ml.m5.large\""
   ]
  },
  {
   "cell_type": "markdown",
   "metadata": {},
   "source": []
  },
  {
   "cell_type": "markdown",
   "metadata": {},
   "source": [
    "# 6. Configuración de las métricas del Algoritmo"
   ]
  },
  {
   "cell_type": "code",
   "execution_count": 167,
   "metadata": {},
   "outputs": [],
   "source": [
    "#Métrica para elegir el mejor modelo\n",
    "metricaParaElegirElMejorModelo = \"validation:loss\""
   ]
  },
  {
   "cell_type": "code",
   "execution_count": 168,
   "metadata": {},
   "outputs": [],
   "source": [
    "#Elegimos el modelo con el mayor valor de accuracy\n",
    "comoSeleccionarElValorDeMetrica = \"Minimize\""
   ]
  },
  {
   "cell_type": "code",
   "execution_count": 169,
   "metadata": {},
   "outputs": [],
   "source": [
    "#Definimos los tipos de métricas que devuelve Tensorflow en sus logs\n",
    "#De esta manera SageMaker sabe cómo extraer los datos de entrenamiento (con el \"Regex\" [patrón de extracción])\n",
    "metricasDisponiblesEnTensorflow = [\n",
    "    {\n",
    "        \"Name\": \"validation:loss\", \n",
    "        \"Regex\": \".*loss: ([0-9\\\\.]+) - val_loss: [0-9\\\\.]+.*\"\n",
    "    }\n",
    "]"
   ]
  },
  {
   "cell_type": "markdown",
   "metadata": {},
   "source": [
    "# 7. Definición del entrenador del modelo"
   ]
  },
  {
   "cell_type": "code",
   "execution_count": 170,
   "metadata": {},
   "outputs": [],
   "source": [
    "#Versión de Python con el que fue construido el script\n",
    "versionPython = \"py38\""
   ]
  },
  {
   "cell_type": "code",
   "execution_count": 171,
   "metadata": {},
   "outputs": [],
   "source": [
    "#Versión de Tensorflow con el que fue construido el script\n",
    "versionTensorflow = \"2.6\""
   ]
  },
  {
   "cell_type": "code",
   "execution_count": 172,
   "metadata": {},
   "outputs": [],
   "source": [
    "#Directorio en donde se cuentra el script\n",
    "directorio = \".\""
   ]
  },
  {
   "cell_type": "code",
   "execution_count": 173,
   "metadata": {},
   "outputs": [],
   "source": [
    "#Nombre del script Tensorflow\n",
    "scriptTensorflow = \"red_neuronal_1.py\""
   ]
  },
  {
   "cell_type": "code",
   "execution_count": 174,
   "metadata": {},
   "outputs": [],
   "source": [
    "#Estimator para entrenar modelos de Tensorflow\n",
    "from sagemaker.tensorflow import TensorFlow"
   ]
  },
  {
   "cell_type": "code",
   "execution_count": 175,
   "metadata": {},
   "outputs": [],
   "source": [
    "#Definimos el entrenador del algoritmo\n",
    "entrenador = TensorFlow(\n",
    "    role = rol, #Rol que ejecuta servicios sobre AWS\n",
    "    py_version = versionPython, #Versión de Python con el que fue construido el script\n",
    "    framework_version = versionTensorflow, #Versión de Tensorflow con el que fue construido el script\n",
    "    source_dir = directorio, #Directorio en donde se cuentra el script\n",
    "    entry_point = scriptTensorflow, #Nombre del script Tensorflow\n",
    "    metric_definitions = metricasDisponiblesEnTensorflow, #Definimos los tipos de métricas que devuelve Tensorflow en sus logs\n",
    "    objective_metric_name = metricaParaElegirElMejorModelo, #Métrica para elegir el mejor modelo\n",
    "    objective_type = comoSeleccionarElValorDeMetrica, #Elegimos el modelo con el mayor valor de accuracy\n",
    "    instance_count = numeroDeServidores, #Definimos la cantidad de servidores\n",
    "    instance_type = tipoDeServidor #Definimos el tipo de servidor\n",
    ")"
   ]
  },
  {
   "cell_type": "markdown",
   "metadata": {},
   "source": [
    "# 8. Definición de Hyper-Parámetros"
   ]
  },
  {
   "cell_type": "code",
   "execution_count": 176,
   "metadata": {},
   "outputs": [],
   "source": [
    "#Utilitario para definir rangos de hyper-parámetros que pueden tomar valores continuos\n",
    "from sagemaker.tuner import ContinuousParameter"
   ]
  },
  {
   "cell_type": "code",
   "execution_count": 177,
   "metadata": {},
   "outputs": [],
   "source": [
    "#Utilitario para definir rangos de hyper-parámetros que pueden tomar valores enteros\n",
    "from sagemaker.tuner import IntegerParameter"
   ]
  },
  {
   "cell_type": "code",
   "execution_count": 178,
   "metadata": {},
   "outputs": [],
   "source": [
    "#Utilitario para definir rangos de hyper-parámetros que pueden tomar valores enteros\n",
    "from sagemaker.tuner import CategoricalParameter"
   ]
  },
  {
   "cell_type": "code",
   "execution_count": 179,
   "metadata": {},
   "outputs": [],
   "source": [
    "#Definimos los hyper-parámetros del modelo\n",
    "hyperparametros = {\n",
    "    \"learning-rate\": ContinuousParameter(0.0001, 0.1), #Ratio de aprendizaje\n",
    "    \"batch-size\": IntegerParameter(32, 128)  #Tamaño de batch\n",
    "}"
   ]
  },
  {
   "cell_type": "code",
   "execution_count": 180,
   "metadata": {},
   "outputs": [],
   "source": [
    "#Definimos la cantidad de procesos de entrenamiento\n",
    "#Cada proceso de entrenamiento tiene sus propios parámetros\n",
    "#El output de un proceso de entrenamiento es un modelo entrenado\n",
    "cantidadDeProcesosDeEntrenamiento = 10 #IMPORTANTE: Generalmente 100"
   ]
  },
  {
   "cell_type": "code",
   "execution_count": 181,
   "metadata": {},
   "outputs": [],
   "source": [
    "#Definimos la cantidad de procesos de entrenamiento en paralelo para no saturar la infraestructura\n",
    "cantidadDeProcesosDeEntrenamientoSimultaneos = 10"
   ]
  },
  {
   "cell_type": "code",
   "execution_count": 182,
   "metadata": {},
   "outputs": [],
   "source": [
    "#Utilitario para crear la malla de hyper-parametrización\n",
    "from sagemaker.tuner import HyperparameterTuner"
   ]
  },
  {
   "cell_type": "code",
   "execution_count": 183,
   "metadata": {},
   "outputs": [],
   "source": [
    "#Creamos la malla de hyper-parametrización\n",
    "mallaDeHyperParametros = HyperparameterTuner(\n",
    "    entrenador, #Entrenador del algoritmo\n",
    "    metricaParaElegirElMejorModelo, #Métrica para elegir el mejor modelo\n",
    "    hyperparametros, #Hyper-parámetros definidos\n",
    "    metric_definitions = metricasDisponiblesEnTensorflow, #Definimos los tipos de métricas que devuelve Tensorflow en sus logs\n",
    "    objective_type = comoSeleccionarElValorDeMetrica, #Elegimos el modelo con el mayor valor de accuracy\n",
    "    max_jobs = cantidadDeProcesosDeEntrenamiento, #Cantidad de procesos de entrenamiento\n",
    "    max_parallel_jobs = cantidadDeProcesosDeEntrenamientoSimultaneos #Cantidad de procesos de entrenamiento en paralelo\n",
    ")"
   ]
  },
  {
   "cell_type": "code",
   "execution_count": 184,
   "metadata": {},
   "outputs": [
    {
     "name": "stderr",
     "output_type": "stream",
     "text": [
      "No finished training job found associated with this estimator. Please make sure this estimator is only used for building workflow config\n",
      "No finished training job found associated with this estimator. Please make sure this estimator is only used for building workflow config\n"
     ]
    },
    {
     "name": "stdout",
     "output_type": "stream",
     "text": [
      ".............................................!\n"
     ]
    }
   ],
   "source": [
    "#Ejecutamos la malla de hyper-parametrización\n",
    "#TIEMPO: 5 MINUTOS\n",
    "mallaDeHyperParametros.fit(inputs = {\"training\": data})"
   ]
  },
  {
   "cell_type": "markdown",
   "metadata": {},
   "source": [
    "# 9. Selección del mejor modelo"
   ]
  },
  {
   "cell_type": "code",
   "execution_count": 185,
   "metadata": {},
   "outputs": [],
   "source": [
    "#Nos conectamos al servicio de SageMaker\n",
    "sagemakerCliente = boto3.client(\"sagemaker\")"
   ]
  },
  {
   "cell_type": "code",
   "execution_count": 186,
   "metadata": {},
   "outputs": [],
   "source": [
    "#Obtenemos el mejor modelo entrenado (el del menor error)\n",
    "nombreDelMejorModelo = mallaDeHyperParametros.best_training_job()"
   ]
  },
  {
   "cell_type": "code",
   "execution_count": 187,
   "metadata": {},
   "outputs": [
    {
     "name": "stdout",
     "output_type": "stream",
     "text": [
      "tensorflow-training-241006-2352-010-24e61387\n"
     ]
    }
   ],
   "source": [
    "#Verificamos\n",
    "print(nombreDelMejorModelo)"
   ]
  },
  {
   "cell_type": "code",
   "execution_count": 188,
   "metadata": {},
   "outputs": [
    {
     "data": {
      "text/plain": [
       "[{'MetricName': 'validation:loss',\n",
       "  'Value': 193671040.0,\n",
       "  'Timestamp': datetime.datetime(2024, 10, 6, 23, 55, 2, tzinfo=tzlocal())},\n",
       " {'MetricName': 'ObjectiveMetric',\n",
       "  'Value': 193671040.0,\n",
       "  'Timestamp': datetime.datetime(2024, 10, 6, 23, 55, 2, tzinfo=tzlocal())}]"
      ]
     },
     "execution_count": 188,
     "metadata": {},
     "output_type": "execute_result"
    }
   ],
   "source": [
    "#Obtenemos la descripción del entrenamiento\n",
    "descripcionDeEntrenamiento = sagemakerCliente.describe_training_job(TrainingJobName = nombreDelMejorModelo)\n",
    "\n",
    "#Dentro de la sub-variable \"FinalMetricDataList\" tenemos las métricas del modelo\n",
    "descripcionDeEntrenamiento[\"FinalMetricDataList\"]"
   ]
  },
  {
   "cell_type": "code",
   "execution_count": 189,
   "metadata": {},
   "outputs": [
    {
     "data": {
      "text/plain": [
       "{'_tuning_objective_metric': 'validation:loss',\n",
       " 'batch-size': '88',\n",
       " 'learning-rate': '0.06263820444233216',\n",
       " 'model_dir': '\"s3://sagemaker-us-east-1-767828747956/tensorflow-training-2024-10-06-23-52-01-977/model\"',\n",
       " 'sagemaker_container_log_level': '20',\n",
       " 'sagemaker_estimator_class_name': '\"TensorFlow\"',\n",
       " 'sagemaker_estimator_module': '\"sagemaker.tensorflow.estimator\"',\n",
       " 'sagemaker_job_name': '\"tensorflow-training-2024-10-06-23-52-01-977\"',\n",
       " 'sagemaker_program': '\"red_neuronal_1.py\"',\n",
       " 'sagemaker_region': '\"us-east-1\"',\n",
       " 'sagemaker_submit_directory': '\"s3://sagemaker-us-east-1-767828747956/tensorflow-training-2024-10-06-23-52-01-977/source/sourcedir.tar.gz\"'}"
      ]
     },
     "execution_count": 189,
     "metadata": {},
     "output_type": "execute_result"
    }
   ],
   "source": [
    "#Extraemos los hyper-parametros del modelo\n",
    "descripcionDeEntrenamiento[\"HyperParameters\"]"
   ]
  },
  {
   "cell_type": "code",
   "execution_count": 190,
   "metadata": {},
   "outputs": [
    {
     "data": {
      "text/plain": [
       "'0.06263820444233216'"
      ]
     },
     "execution_count": 190,
     "metadata": {},
     "output_type": "execute_result"
    }
   ],
   "source": [
    "#Extraemos el learning rate\n",
    "descripcionDeEntrenamiento[\"HyperParameters\"][\"learning-rate\"]"
   ]
  },
  {
   "cell_type": "code",
   "execution_count": 191,
   "metadata": {},
   "outputs": [
    {
     "data": {
      "text/plain": [
       "'88'"
      ]
     },
     "execution_count": 191,
     "metadata": {},
     "output_type": "execute_result"
    }
   ],
   "source": [
    "#Extraemos el batch size\n",
    "descripcionDeEntrenamiento[\"HyperParameters\"][\"batch-size\"]"
   ]
  }
 ],
 "metadata": {
  "kernelspec": {
   "display_name": "base",
   "language": "python",
   "name": "python3"
  },
  "language_info": {
   "codemirror_mode": {
    "name": "ipython",
    "version": 3
   },
   "file_extension": ".py",
   "mimetype": "text/x-python",
   "name": "python",
   "nbconvert_exporter": "python",
   "pygments_lexer": "ipython3",
   "version": "3.11.9"
  }
 },
 "nbformat": 4,
 "nbformat_minor": 2
}
